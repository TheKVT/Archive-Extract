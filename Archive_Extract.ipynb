{
  "nbformat": 4,
  "nbformat_minor": 0,
  "metadata": {
    "colab": {
      "name": "Archive_Extract.ipynb",
      "provenance": [],
      "include_colab_link": true
    },
    "kernelspec": {
      "name": "python3",
      "display_name": "Python 3"
    },
    "language_info": {
      "name": "python"
    }
  },
  "cells": [
    {
      "cell_type": "markdown",
      "metadata": {
        "id": "view-in-github",
        "colab_type": "text"
      },
      "source": [
        "<a href=\"https://colab.research.google.com/github/TheKVT/Archive-Extract/blob/main/Archive_Extract.ipynb\" target=\"_parent\"><img src=\"https://colab.research.google.com/assets/colab-badge.svg\" alt=\"Open In Colab\"/></a>"
      ]
    },
    {
      "cell_type": "markdown",
      "metadata": {
        "id": "YL91iFHlRiOH"
      },
      "source": [
        "## **<font color='blue'> Archive-Extract by [TheKVT](https://github.com/TheKVT/Archive-Extract) </font>**"
      ]
    },
    {
      "cell_type": "markdown",
      "metadata": {
        "id": "7DAr4SH0VPLl"
      },
      "source": [
        "## ![alt text](https://drive.google.com/favicon.ico?v=3) __Mount GDrive__"
      ]
    },
    {
      "cell_type": "code",
      "metadata": {
        "cellView": "form",
        "id": "LT3FbmkaPhzy"
      },
      "source": [
        "MODE = \"MOUNT\" #@param [\"MOUNT\", \"UNMOUNT\"]\n",
        "#Mount your Gdrive! \n",
        "from google.colab import drive\n",
        "drive.mount._DEBUG = False\n",
        "if MODE == \"MOUNT\":\n",
        "  drive.mount('/content/drive', force_remount=True)\n",
        "elif MODE == \"UNMOUNT\":\n",
        "  try:\n",
        "    drive.flush_and_unmount()\n",
        "  except ValueError:\n",
        "    pass\n",
        "  get_ipython().system_raw(\"rm -rf /root/.config/Google/DriveFS\")"
      ],
      "execution_count": null,
      "outputs": []
    },
    {
      "cell_type": "markdown",
      "metadata": {
        "id": "HrowaT5oSdoB"
      },
      "source": [
        "# #Extract Files"
      ]
    },
    {
      "cell_type": "code",
      "metadata": {
        "cellView": "form",
        "id": "zFqOfYhzPjUm"
      },
      "source": [
        "# ============================= FORM ===========================\n",
        "MODE = \"UNZIP\"  # @param [\"UNZIP\", \"UNTAR\", \"UNRAR\", \"7Z\", \"ISO\", \"OTHER\"]\n",
        "PATH_TO_FILE = \"\"  # @param {type:\"string\"}\n",
        "extractPath = \"\"  # @param {type:\"string\"}\n",
        "ARCHIVE_PASSWORD = \"\" #@param {type:\"string\"}\n",
        "\n",
        "# ================================================================ #\n",
        "import os, urllib.request\n",
        "\n",
        "def checkAvailable(path_=\"\", userPath=False):\n",
        "    from os import path as _p\n",
        "\n",
        "    if path_ == \"\":\n",
        "        return False\n",
        "    else:\n",
        "        return (\n",
        "            _p.exists(path_)\n",
        "            if not userPath\n",
        "            else _p.exists(f\"/usr/local/sessionSettings/{path_}\")\n",
        "        )\n",
        "\n",
        "\n",
        "def runSh(args, *, output=False, shell=False, cd=None):\n",
        "    import subprocess, shlex\n",
        "\n",
        "    if not shell:\n",
        "        if output:\n",
        "            proc = subprocess.Popen(\n",
        "                shlex.split(args), stdout=subprocess.PIPE, stderr=subprocess.STDOUT, cwd=cd\n",
        "            )\n",
        "            while True:\n",
        "                output = proc.stdout.readline()\n",
        "                if output == b\"\" and proc.poll() is not None:\n",
        "                    return\n",
        "                if output:\n",
        "                    print(output.decode(\"utf-8\").strip())\n",
        "        return subprocess.run(shlex.split(args), cwd=cd).returncode\n",
        "    else:\n",
        "        if output:\n",
        "            return (\n",
        "                subprocess.run(\n",
        "                    args,\n",
        "                    shell=True,\n",
        "                    stdout=subprocess.PIPE,\n",
        "                    stderr=subprocess.STDOUT,\n",
        "                    cwd=cd,\n",
        "                )\n",
        "                .stdout.decode(\"utf-8\")\n",
        "                .strip()\n",
        "            )\n",
        "        return subprocess.run(args, shell=True, cwd=cd).returncode\n",
        "\n",
        "def extractFiles():\n",
        "    global extractPath\n",
        "    if ARCHIVE_PASSWORD:\n",
        "      passADD = f'-P {ARCHIVE_PASSWORD}'\n",
        "    else:\n",
        "      passADD = ''\n",
        "    if not extractPath:\n",
        "      extractPath = \"/content/extract\"\n",
        "    os.makedirs(extractPath, exist_ok=True)\n",
        "    if MODE == \"UNZIP\":\n",
        "        runSh('unzip '+passADD+f' \"{PATH_TO_FILE}\" -d \"{extractPath}\"', output=True)\n",
        "    elif MODE == \"UNRAR\":\n",
        "        runSh(f'unrar x \"{PATH_TO_FILE}\" \"{extractPath}\" '+passADD+' -o+', output=True)\n",
        "    elif MODE == \"UNTAR\":\n",
        "        runSh(f'tar -C \"{extractPath}\" -xvf \"{PATH_TO_FILE}\"', output=True)\n",
        "    else:\n",
        "        runSh(f'7z x \"{PATH_TO_FILE}\" -o{extractPath} '+passADD, output=True)\n",
        "\n",
        "\n",
        "extractFiles()"
      ],
      "execution_count": null,
      "outputs": []
    },
    {
      "cell_type": "markdown",
      "metadata": {
        "id": "xT_ZoSUsTamr"
      },
      "source": [
        "Some rare times this extractor shows error...\n",
        "Then use following command <br>\n",
        "1. ``` %cd your dictionary/folder of archived file ```\n",
        "2. for any type of archived files this command is same <br>\n",
        "```!7z x archived_file_name``` <br>\n",
        "if it have password use this <br>\n",
        "```!7z x archived_file_name -pfilePasswordHere``` <br>\n",
        "3. In case of error only use this ⚠️"
      ]
    },
    {
      "cell_type": "markdown",
      "metadata": {
        "id": "qzFNXsxuSu3R"
      },
      "source": [
        "# #Archive Files"
      ]
    },
    {
      "cell_type": "code",
      "metadata": {
        "cellView": "form",
        "id": "B11CA-w6Pr4S"
      },
      "source": [
        "# ============================= FORM ============================= #\n",
        "\n",
        "MODE = \"ZIP\" #@param [\"ZIP\", \"TAR\", \"7Z\"]\n",
        "FILENAME = \"\"  # @param {type:\"string\"}\n",
        "PATH_TO_FILE = \"\"  # @param {type:\"string\"}\n",
        "ARCHIVE_PASSWORD = \"\" #@param {type:\"string\"}\n",
        "\n",
        "# option supports b k m g (bytes, kilobytes, megabytes, gigabytes)\n",
        "SPLIT = \"no\" #@param [\"1g\", \"2g\", \"3g\", \"4g\", \"5g\", \"no\"]\n",
        "\n",
        "\n",
        "compress = 9#@param  {type:\"slider\", min:0, max:9, step:0}\n",
        "#@markdown <font size=3%>Add multi files by use this to path separate between to this character `|`. Ex ```path/to/1 | path/to/2``` </br>\n",
        "# ================================================================ #\n",
        "from pathlib import PurePosixPath\n",
        "\n",
        "pathList = PATH_TO_FILE.split('|')\n",
        "if MODE == \"ZIP\":\n",
        "    if not FILENAME:\n",
        "      FILENAME = \"/content/NEW_FILE.ZIP\"\n",
        "    if ARCHIVE_PASSWORD:\n",
        "      passADD = f'--password \"{ARCHIVE_PASSWORD}\"'\n",
        "    else:\n",
        "      passADD = ''\n",
        "    splitC = f\"-s {SPLIT}\" if not 'no' in SPLIT else \"\" \n",
        "    for part in pathList:\n",
        "      pathdic = PurePosixPath(part.strip())\n",
        "      parent = pathdic.parent\n",
        "      partName = pathdic.parts[-1]\n",
        "      cmd = f'cd \"{parent}\" && zip {passADD} -{compress} {splitC} -v -r -u \"{FILENAME}\" \"{partName}\"'\n",
        "      !$cmd\n",
        "elif MODE == \"TAR\":\n",
        "    if not FILENAME:\n",
        "      FILENAME = \"/content/NEW_FILE\"\n",
        "    cmd = f'GZIP=-{compress} tar -zcvf \"{FILENAME}.tar.gz\" {PATH_TO_FILE}'\n",
        "    !$cmd\n",
        "else:\n",
        "    if not FILENAME:\n",
        "        FILENAME = \"/content/NEW_FILE\"\n",
        "    for part in pathList:\n",
        "      pathdic = PurePosixPath(part.strip())\n",
        "      parent = pathdic.parent\n",
        "      partName = pathdic.parts[-1]\n",
        "      cmd = f'cd \"{parent}\" && 7z a -mx={compress} \"{FILENAME}.7z\" \"{partName}\"'\n",
        "      !$cmd"
      ],
      "execution_count": null,
      "outputs": []
    },
    {
      "cell_type": "markdown",
      "metadata": {
        "id": "9LEh7EjqS6mf"
      },
      "source": [
        "# <b>Get Archived File info </b>\n",
        "<p>Know file names and sizes of any archived files even if it is protected</p>"
      ]
    },
    {
      "cell_type": "code",
      "metadata": {
        "cellView": "form",
        "id": "Qp3rgYr2PzXN"
      },
      "source": [
        "file_name = \"\" #@param {type:\"string\"}\n",
        "Mode = \"ZIP\" #@param [\"ZIP\", \"TAR\", \"RAR\", \"7Z\"]\n",
        "\n",
        "from zipfile import ZipFile\n",
        "import datetime,humanize\n",
        "import tarfile\n",
        "import sys\n",
        "\n",
        "if not file_name:\n",
        "    print('Enter File Path First')\n",
        "else:\n",
        "      if Mode == \"ZIP\": \n",
        "        with ZipFile(file_name, 'r') as zip:\n",
        "          for info in zip.infolist():\n",
        "            print(info.filename)\n",
        "            print('\\tLast Modified:\\t' + str(datetime.datetime(*info.date_time)))\n",
        "            print('\\tZIP version:\\t' + str(info.create_version))\n",
        "            print('\\tSystem:\\t\\t' + str(info.create_system) + '  (0 = Windows, 3 = Unix)')\n",
        "            print('\\tCompressed:\\t' + humanize.naturalsize(str(info.compress_size)))\n",
        "            print('\\tUncompressed:\\t' + humanize.naturalsize(str(info.file_size)))\n",
        "            print(u'\\u2500'* 60)\n",
        "      elif Mode == \"TAR\":  \n",
        "             t = tarfile.open('/content/sample.tar', 'r')\n",
        "             for info in t.getmembers():\n",
        "              print(u'\\u2500'* 60)\n",
        "              print(info.name)\n",
        "              print('Modified:', time.ctime(info.mtime))\n",
        "              print('Mode    :', oct(info.mode))\n",
        "              print('Type    :', info.type)\n",
        "              print('Size    :', humanize.naturalsize(info.size)) \n",
        "      else:\n",
        "        !7z l \"{filepath}\""
      ],
      "execution_count": null,
      "outputs": []
    }
  ]
}